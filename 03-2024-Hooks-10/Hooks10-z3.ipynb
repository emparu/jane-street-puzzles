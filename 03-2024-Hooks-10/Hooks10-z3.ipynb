{
 "cells": [
  {
   "cell_type": "code",
   "execution_count": 24,
   "metadata": {
    "id": "Oq1xibzMT1Wl"
   },
   "outputs": [],
   "source": [
    "import numpy as np\n",
    "import pandas as pd\n",
    "import time\n",
    "import seaborn as sns\n",
    "import matplotlib.pyplot as plt\n",
    "import itertools\n",
    "from z3 import *\n",
    "from scipy.ndimage import measurements\n",
    "from IPython.display import Markdown, display,Image,HTML"
   ]
  },
  {
   "cell_type": "code",
   "execution_count": 25,
   "metadata": {
    "id": "0VI0NM6ET1Wt"
   },
   "outputs": [],
   "source": [
    "#Setup the constraints\n",
    "top_labels  = [41, 8, 0, 0,14, 0,15, 0, 0]\n",
    "bot_labels  = [ 0, 9, 0,17, 0,15, 0,35, 0]\n",
    "left_labels = [ 0, 0,25, 0,15, 0,26, 0, 0]\n",
    "right_labels =[25, 0, 0, 0,10, 0, 0, 0,27]\n",
    "params = [top_labels,bot_labels,left_labels,right_labels]"
   ]
  },
  {
   "cell_type": "code",
   "execution_count": 26,
   "metadata": {
    "id": "844RhDFpT1Wu"
   },
   "outputs": [],
   "source": [
    "def sol_print(solved,matrix):\n",
    "    fig,ax = plt.subplots(1,1,figsize=(4,4))\n",
    "    x = np.array((solved*matrix).astype('int').astype('str'))\n",
    "    x[x==\"0\"] =\"\"\n",
    "    ax =sns.heatmap(solved,annot=x,cbar=False,cmap=\"tab10\",fmt=\"\",linewidths=2,linecolor='k',annot_kws={\"fontsize\":12,\"color\":\"k\"},alpha=.6)\n",
    "    ax.tick_params(left=False, bottom=False,labelleft=False, labelright=True)\n",
    "    ax.axis(\"off\")\n",
    "    plt.tight_layout()\n",
    "    plt.show()"
   ]
  },
  {
   "cell_type": "code",
   "execution_count": 27,
   "metadata": {
    "id": "844RhDFpT1Wu"
   },
   "outputs": [],
   "source": [
    "def neigh(x,y,N):\n",
    "    return [(i+x,j+y) for i,j in [(-1,0),(0,-1),(1,0),(0,1)] if i+x >=0 and i+x <N and j+y >=0 and j+y <N]\n",
    "\n",
    "def areas(grid):\n",
    "    labels, num = measurements.label(np.logical_not(grid!=0))\n",
    "    areas = measurements.sum(np.logical_not(grid!=0), labels, index=range(1, num+1))\n",
    "    print(areas)\n",
    "    return np.prod(areas)\n",
    "\n",
    "def numbers(split,line,hook_line):\n",
    "    block = 0\n",
    "    inblock =0\n",
    "    for n,p in enumerate(split):         \n",
    "        if p ==1:\n",
    "            if inblock == 0:\n",
    "                block += line[n]*hook_line[n]\n",
    "                inblock = 1\n",
    "            else:\n",
    "                block += line[n]*hook_line[n]         \n",
    "        else:\n",
    "            if inblock == 1:\n",
    "                yield block\n",
    "                block = 0\n",
    "                inblock = 0                    \n",
    "    if inblock == 1:\n",
    "        yield block\n",
    "            "
   ]
  },
  {
   "cell_type": "code",
   "execution_count": 28,
   "metadata": {},
   "outputs": [
    {
     "name": "stdout",
     "output_type": "stream",
     "text": [
      "[[9 9 9 9 9 9 9 9 9]\n",
      " [7 7 7 7 7 7 7 7 9]\n",
      " [6 3 5 5 5 5 8 7 9]\n",
      " [6 3 4 4 4 5 8 7 9]\n",
      " [6 3 2 2 4 5 8 7 9]\n",
      " [6 3 2 1 4 5 8 7 9]\n",
      " [6 3 3 3 3 3 8 7 9]\n",
      " [6 6 6 6 6 6 8 7 9]\n",
      " [8 8 8 8 8 8 8 7 9]]\n"
     ]
    }
   ],
   "source": [
    "# Multiline string\n",
    "multiline_str = \"\"\"9 9 9 9 9 9 9 9 9 \n",
    "7 7 7 7 7 7 7 7 9 \n",
    "6 3 5 5 5 5 8 7 9 \n",
    "6 3 4 4 4 5 8 7 9 \n",
    "6 3 2 2 4 5 8 7 9 \n",
    "6 3 2 1 4 5 8 7 9 \n",
    "6 3 3 3 3 3 8 7 9 \n",
    "6 6 6 6 6 6 8 7 9 \n",
    "8 8 8 8 8 8 8 7 9\"\"\"\n",
    "\n",
    "# Split the string into lines\n",
    "lines = multiline_str.split('\\n')\n",
    "\n",
    "# Create a list of lists from the lines\n",
    "data = [[int(num) for num in line.split()] for line in lines]\n",
    "\n",
    "# Convert the list of lists to a NumPy array\n",
    "arr = np.array(data)\n",
    "\n",
    "print(arr)"
   ]
  },
  {
   "cell_type": "code",
   "execution_count": 29,
   "metadata": {},
   "outputs": [],
   "source": [
    "boardNums=[[0,18,0,0,0,0,7,0,0],\n",
    "           [0,0,0,0,12,0,0,0,0],\n",
    "           [0,0,9,0,0,0,0,31,0],\n",
    "           [0,0,0,0,0,0,0,0,0],\n",
    "           [0,5,0,11,0,22,0,22,0],\n",
    "           [0,0,0,0,0,0,0,0,0],\n",
    "           [0,9,0,0,0,0,19,0,0],\n",
    "           [0,0,0,0,14,0,0,0,0],\n",
    "           [0,0,22,0,0,0,0,15,0]]"
   ]
  },
  {
   "cell_type": "code",
   "execution_count": 30,
   "metadata": {},
   "outputs": [],
   "source": [
    "numPos=[]\n",
    "for i in range(0,9):\n",
    "    for j in range(0,9):\n",
    "        if(boardNums[i][j]!=0):\n",
    "            numPos.append([i,j,boardNums[i][j]])"
   ]
  },
  {
   "cell_type": "code",
   "execution_count": 31,
   "metadata": {},
   "outputs": [
    {
     "name": "stdout",
     "output_type": "stream",
     "text": [
      "[[0, 1, 18], [0, 6, 7], [1, 4, 12], [2, 2, 9], [2, 7, 31], [4, 1, 5], [4, 3, 11], [4, 5, 22], [4, 7, 22], [6, 1, 9], [6, 6, 19], [7, 4, 14], [8, 2, 22], [8, 7, 15]]\n"
     ]
    }
   ],
   "source": [
    "print(numPos)"
   ]
  },
  {
   "cell_type": "code",
   "execution_count": 32,
   "metadata": {
    "colab": {
     "base_uri": "https://localhost:8080/",
     "height": 374
    },
    "id": "zexQ8t1kT1W3",
    "outputId": "7c2aec4e-d2fb-45d8-fc7e-679051faafed"
   },
   "outputs": [
    {
     "name": "stdout",
     "output_type": "stream",
     "text": [
      "setup done in 0.84 seconds\n"
     ]
    },
    {
     "data": {
      "image/png": "[encoded data removed]",
      "text/plain": [
       "<Figure size 288x288 with 1 Axes>"
      ]
     },
     "metadata": {
      "needs_background": "light"
     },
     "output_type": "display_data"
    },
    {
     "name": "stdout",
     "output_type": "stream",
     "text": [
      "[[9 9 9 9 9 9 9 9 9]\n",
      " [7 7 7 7 7 7 7 7 9]\n",
      " [6 3 5 5 5 5 8 7 9]\n",
      " [6 3 4 4 4 5 8 7 9]\n",
      " [6 3 2 2 4 5 8 7 9]\n",
      " [6 3 2 1 4 5 8 7 9]\n",
      " [6 3 3 3 3 3 8 7 9]\n",
      " [6 6 6 6 6 6 8 7 9]\n",
      " [8 8 8 8 8 8 8 7 9]]\n",
      "[[1 0 1 1 0 0 0 0 0]\n",
      " [1 0 0 1 0 0 1 1 1]\n",
      " [1 0 0 1 1 1 1 0 1]\n",
      " [1 1 1 1 0 1 0 1 1]\n",
      " [0 0 1 0 1 0 1 0 0]\n",
      " [0 0 1 1 1 1 1 1 1]\n",
      " [0 0 1 0 0 1 0 0 1]\n",
      " [1 1 1 1 0 0 1 1 1]\n",
      " [0 1 0 1 1 0 1 0 0]]\n",
      "[[9 0 9 9 0 0 0 0 0]\n",
      " [7 0 0 7 0 0 7 7 9]\n",
      " [6 0 0 5 5 5 8 0 9]\n",
      " [6 3 4 4 0 5 0 7 9]\n",
      " [0 0 2 0 4 0 8 0 0]\n",
      " [0 0 2 1 4 5 8 7 9]\n",
      " [0 0 3 0 0 3 0 0 9]\n",
      " [6 6 6 6 0 0 8 7 9]\n",
      " [0 8 0 8 8 0 8 0 0]]\n",
      "Took 1.2007 seconds\n",
      "[5. 7. 1. 1. 1. 6. 1. 1. 2. 5. 2. 1. 1. 2.]\n",
      "solution is 8,400\n"
     ]
    },
    {
     "name": "stderr",
     "output_type": "stream",
     "text": [
      "/tmp/ipykernel_38640/1414098299.py:5: DeprecationWarning: Please use `label` from the `scipy.ndimage` namespace, the `scipy.ndimage.measurements` namespace is deprecated.\n",
      "  labels, num = measurements.label(np.logical_not(grid!=0))\n",
      "/tmp/ipykernel_38640/1414098299.py:6: DeprecationWarning: Please use `sum` from the `scipy.ndimage` namespace, the `scipy.ndimage.measurements` namespace is deprecated.\n",
      "  areas = measurements.sum(np.logical_not(grid!=0), labels, index=range(1, num+1))\n"
     ]
    }
   ],
   "source": [
    "start = time.time()\n",
    "N =9\n",
    "#set up the solver and variables.\n",
    "s = Tactic(\"qffd\").solver()\n",
    "#s = Solver()\n",
    "\n",
    "\n",
    "H = np.array(IntVector(\"h\",N**2),dtype=object).reshape((N,N))\n",
    "#H = K(Int,arr.tolist())\n",
    "for i in range(0,9):\n",
    "    for j in range(0,9):\n",
    "        s += (H[i,j] == arr[i,j])\n",
    "\n",
    "    \n",
    "\n",
    "# Y = filled    \n",
    "Y = np.array(IntVector(\"y\",N**2),dtype=object).reshape((N,N))\n",
    "s += [Or(e==0,e==1) for (i,j),e in np.ndenumerate(Y)]\n",
    "\n",
    "for n in range(1,N+1):\n",
    "    s+=PbEq([(And(e==n,Y[i,j]==1),1) for (i,j),e in np.ndenumerate(H)],n)\n",
    "\n",
    "# no 2x2\n",
    "s += [Or(Y[i,j] ==0,Y[i+1,j] ==0,Y[i,j+1] ==0,Y[i+1,j+1] ==0) for j in range(N-1) for i in range(N-1)]\n",
    "    \n",
    "edge ={}\n",
    "Z = np.array(IntVector('z', N*N),dtype=object).reshape(N,N)\n",
    "\n",
    "# create edges and variable to define order in connectivity tree\n",
    "for i in range(N):\n",
    "    for j in range(N):  \n",
    "        for (k,l) in neigh(i,j,N):\n",
    "            edge[(i,j,k,l)] = Int(\"e%d%d%d%d\" % (i,j,k,l))\n",
    "            s+=Or(edge[(i,j,k,l)] ==0,edge[(i,j,k,l)] ==1)\n",
    "\n",
    "# no edges into or out of unfilled cells. Only one edge per cell     \n",
    "for i in range(N):\n",
    "    for j in range(N):       \n",
    "        s += Implies(Y[i,j] ==0 , Sum([edge[(k,l,i,j)] for (k,l) in neigh(i,j,N)]) == 0)\n",
    "        s += Implies(Y[i,j] ==0 , Sum([edge[(i,j,k,l)] for (k,l) in neigh(i,j,N)]) == 0)\n",
    "        s += Implies(Y[i,j] > 0 , Sum([edge[(k,l,i,j)] for (k,l) in neigh(i,j,N)]) <= 1)\n",
    "        for (k,l) in neigh(i,j,N):\n",
    "            # Make edges one way to form a tree\n",
    "            s += (edge[(i,j,k,l)] + edge[(k,l,i,j)]) <= 1\n",
    "\n",
    "    #limit the order values\n",
    "    s += [And(e>= 0 ,e <=int(N*N)) for (i,j),e in np.ndenumerate(Z)]\n",
    "\n",
    "    # order is ascending along edges\n",
    "    for i in range(N):\n",
    "        for j in range(N):            \n",
    "            s += [Implies(And(Y[i,j]!=0,edge[(k,l,i,j)]==1),Z[i,j] > Z[k,l]) for (k,l) in neigh(i,j,N)]\n",
    "\n",
    "    # only one cell with no feed in => root\n",
    "    s += PbEq([(And(Y[i,j] != 0,Sum([edge[(k,l,i,j)] for (k,l) in neigh(i,j,N) ]) == 0),1) for i in range(N) for j in range(N)],1)\n",
    "\n",
    "AR = H * Y\n",
    "\n",
    "\n",
    "for i in range(0,len(numPos)):\n",
    "    row, col, value = numPos[i]\n",
    "    left = AR[row, col - 1] if col > 0 else 0\n",
    "    right = AR[row, col + 1] if col < 8 else 0\n",
    "    top = AR[row - 1, col] if row > 0 else 0\n",
    "    bottom = AR[row + 1, col] if row < 8 else 0\n",
    "    center = AR[row, col]\n",
    "    s += (left + right + top + bottom == value)\n",
    "    s += (center == 0)\n",
    "\n",
    "print(\"setup done in {:.2f} seconds\".format(time.time()-start))       \n",
    "if s.check() == sat:\n",
    "    m = s.model()\n",
    "    evalu = np.vectorize(lambda x:m.evaluate(x).as_long())\n",
    "    result_x =  evalu(H)\n",
    "    result_y =  evalu(Y)\n",
    "    sol_print(result_x,result_y)\n",
    "    print(result_x)\n",
    "    print(result_y)\n",
    "    print(result_x*result_y)\n",
    "    print(\"Took {:.4f} seconds\".format(time.time()- start))\n",
    "    soln = result_x*result_y\n",
    "    print(\"solution is {:,.0f}\".format(areas(soln)))\n",
    "else:\n",
    "    print(\"Fail\")\n",
    "    print(s.check())"
   ]
  }
 ],
 "metadata": {
  "colab": {
   "include_colab_link": true,
   "name": "JaneSt-Feb18.ipynb",
   "provenance": []
  },
  "kernelspec": {
   "display_name": "Python 3 (ipykernel)",
   "language": "python",
   "name": "python3"
  },
  "language_info": {
   "codemirror_mode": {
    "name": "ipython",
    "version": 3
   },
   "file_extension": ".py",
   "mimetype": "text/x-python",
   "name": "python",
   "nbconvert_exporter": "python",
   "pygments_lexer": "ipython3",
   "version": "3.10.12"
  },
  "vscode": {
   "interpreter": {
    "hash": "aee8b7b246df8f9039afb4144a1f6fd8d2ca17a180786b69acc140d282b71a49"
   }
  }
 },
 "nbformat": 4,
 "nbformat_minor": 4
}
